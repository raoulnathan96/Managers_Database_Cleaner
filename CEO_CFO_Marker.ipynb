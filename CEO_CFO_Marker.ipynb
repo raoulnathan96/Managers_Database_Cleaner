{
  "nbformat": 4,
  "nbformat_minor": 0,
  "metadata": {
    "colab": {
      "name": "CEO_CFO_Marker.ipynb",
      "provenance": [],
      "collapsed_sections": []
    },
    "kernelspec": {
      "name": "python3",
      "display_name": "Python 3"
    },
    "language_info": {
      "name": "python"
    }
  },
  "cells": [
    {
      "cell_type": "code",
      "execution_count": null,
      "metadata": {
        "id": "0MTESroHB5O-"
      },
      "outputs": [],
      "source": [
        "import numpy as np\n",
        "import pandas as pd\n",
        "\n",
        "!pip install fuzzywuzzy\n",
        "!pip install python-Levenshtein\n",
        "\n",
        "from fuzzywuzzy import fuzz\n",
        "from fuzzywuzzy import process"
      ]
    },
    {
      "cell_type": "markdown",
      "source": [
        "Converting to string and removing basic formatting errors"
      ],
      "metadata": {
        "id": "l5SRxXpuIXZe"
      }
    },
    {
      "cell_type": "code",
      "source": [
        "df = pd.read_csv(\"Total_Managers_pos.csv\")\n",
        "df['position'] = df['position'].map(lambda position: str(position))\n",
        "df['position'] = df['position'].map(lambda position: position.strip().title().replace('.',''))\n",
        "print(df)"
      ],
      "metadata": {
        "id": "t49TGrrZEL71"
      },
      "execution_count": null,
      "outputs": []
    },
    {
      "cell_type": "markdown",
      "source": [
        "Isolating pure values for analysis"
      ],
      "metadata": {
        "id": "ydTBpjS5IzOc"
      }
    },
    {
      "cell_type": "code",
      "source": [
        "CFO_formatting = df.loc[(df[\"position\"] != \"Chief Financial Officer\")\n",
        "& (df[\"position\"] != \"Cfo\")\n",
        "& (df[\"position\"] != \"CFO\")\n",
        "& (df[\"position\"] != \"Chief Financial Officer,\")]\n",
        "\n",
        "CEO_formatting = df.loc[(df[\"position\"] != \"Chief Executive Officer\")\n",
        "& (df[\"position\"] != \"Ceo\")\n",
        "& (df[\"position\"] != \"Chief Executive Officer,\")]"
      ],
      "metadata": {
        "id": "tienj6m2IQNO"
      },
      "execution_count": null,
      "outputs": []
    },
    {
      "cell_type": "markdown",
      "source": [
        "Find spelling mistakes"
      ],
      "metadata": {
        "id": "MTDLsEg4KmVp"
      }
    },
    {
      "cell_type": "code",
      "source": [
        "def fuzzy_checker(match_word, dataset, no_res):\n",
        "  match_list = process.extract(match_word, dataset, limit = int(no_res))\n",
        "  match_new_list = []\n",
        "  for word in match_list:\n",
        "    spelling, remainder, index = word\n",
        "    spelling_only = spelling.split(',')\n",
        "    match_new_list.extend(spelling_only)\n",
        "    #for added_word in match_new_list:\n",
        "      #added_word = added_word.strip().split('&').split('And')\n",
        "\n",
        "  condensed_match_list = list(dict.fromkeys(match_new_list))\n",
        "  print(condensed_match_list)"
      ],
      "metadata": {
        "id": "T3Q7WaqTari2"
      },
      "execution_count": null,
      "outputs": []
    },
    {
      "cell_type": "code",
      "source": [
        "fuzzy_checker(\"Chief Financial Officer\", CFO_formatting['position'], 1000)"
      ],
      "metadata": {
        "id": "u3QHEysCeJN5"
      },
      "execution_count": null,
      "outputs": []
    },
    {
      "cell_type": "code",
      "source": [
        "fuzzy_checker(\"Chief Executive Officer\", CEO_formatting['position'], 1000)"
      ],
      "metadata": {
        "id": "0UMBZC90ex74"
      },
      "execution_count": null,
      "outputs": []
    },
    {
      "cell_type": "code",
      "source": [
        "CFO_formatting_1 = CFO_formatting.loc[(CFO_formatting['position'] != 'Chief Finacial Officer')\n",
        "& (CFO_formatting['position'] != 'Chief Financia Officer')\n",
        "& (CFO_formatting['position'] != 'Chief Fiancial Officer')\n",
        "& (CFO_formatting['position'] != 'Chief Fianncial Officer')\n",
        "& (CFO_formatting['position'] != 'Cheif Financial Officer')\n",
        "& (CFO_formatting['position'] != 'Chief Finanical Officer')\n",
        "& (CFO_formatting['position'] != 'Chief Financial Office')\n",
        "& (CFO_formatting['position'] != 'Chief Financial')\n",
        "& (CFO_formatting['position'] != 'Chief Finance Officer')\n",
        "& (CFO_formatting['position'] != 'Cheif Financial Officer')\n",
        "& (CFO_formatting['position'] != 'Chief Executive Financial Officer')]"
      ],
      "metadata": {
        "id": "ZiIbIOGwLvTJ"
      },
      "execution_count": null,
      "outputs": []
    },
    {
      "cell_type": "markdown",
      "source": [
        "CFO_pure = ['Chief Financial Officer', 'Cfo', 'Chief Financial Officer,', 'Chief Finacial Officer', 'Chief Financia Officer', 'Chief Fiancial Officer', 'Chief Fianncial Officer', 'Cheif Financial Officer', 'Chief Finanical Officer', 'Chief Financial Office', 'Chief Financial', 'Chief Finance Officer', 'Cheif Financial Officer', 'Chief Executive Financial Officer', 'CFO', 'Andcfo']"
      ],
      "metadata": {
        "id": "VbTb2M0uWGTc"
      }
    },
    {
      "cell_type": "code",
      "source": [
        "CEO_formatting_1 = CEO_formatting.loc[(CEO_formatting['position'] != 'Cheif Executive Officer')\n",
        "& (CEO_formatting['position'] != 'Chief Executive Offcier')\n",
        "& (CEO_formatting['position'] != 'Chief Executive')\n",
        "& (CEO_formatting['position'] != 'Chief Executive Office')\n",
        "& (CEO_formatting['position'] != 'Chief Executive Financial Officer')\n",
        "& (CEO_formatting['position'] != 'Chief Eexecutive Officer')\n",
        "& (CEO_formatting['position'] != 'Chairmanceo')\n",
        "& (CEO_formatting['position'] != 'Andceo')\n",
        "& (CEO_formatting['position'] != 'Cceo')\n",
        "& (CEO_formatting['position'] != 'Chief Exeucutive Officer')]"
      ],
      "metadata": {
        "id": "86AQJ-_HMGa7"
      },
      "execution_count": null,
      "outputs": []
    },
    {
      "cell_type": "markdown",
      "source": [
        "CEO_pure = ['Chief Executive Officer', 'Ceo', 'Chief Executive Officer,', 'Cheif Executive Officer', 'Chief Executive Offcier', 'Chief Executive', 'Chief Executive Office', 'Chief Executive Financial Officer', 'Chief Eexecutive Officer', 'Chairmanceo', 'Andceo', 'Cceo', 'Chief Exeucutive Officer']"
      ],
      "metadata": {
        "id": "Yrkyp_nWXARe"
      }
    },
    {
      "cell_type": "markdown",
      "source": [
        "Find subs"
      ],
      "metadata": {
        "id": "glKRyzIjMTxh"
      }
    },
    {
      "cell_type": "code",
      "source": [
        "fuzzy_checker(\"Chief Financial Officer\", CFO_formatting_1['position'], 1000)"
      ],
      "metadata": {
        "id": "U2Atrv0SfMyZ"
      },
      "execution_count": null,
      "outputs": []
    },
    {
      "cell_type": "code",
      "source": [
        "CFO_formatting_2 = CFO_formatting_1.loc[(CFO_formatting_1['position'] != 'Acting Chief Financial Officer')\n",
        "& (CFO_formatting_1['position'] != 'Interim Chief Financial Officer')\n",
        "& (CFO_formatting_1['position'] != 'Interim Financial Officer')\n",
        "& (CFO_formatting_1['position'] != 'Co-Chief Financial Officer')\n",
        "& (CFO_formatting_1['position'] != 'Deputy Chief Financial Officer')\n",
        "& (CFO_formatting_1['position'] != 'Group Chief Financial Officer')\n",
        "& (CFO_formatting_1['position'] != 'Future Chief Financial Officer')\n",
        "& (CFO_formatting_1['position'] != 'Financial Officer')\n",
        "& (CFO_formatting_1['position'] != 'Finance Officer')\n",
        "& (CFO_formatting_1['position'] != 'Acfo')]"
      ],
      "metadata": {
        "id": "-gir-CuVYhfj"
      },
      "execution_count": null,
      "outputs": []
    },
    {
      "cell_type": "markdown",
      "source": [
        "CFO_subs = ['Acting Chief Financial Officer', 'Interim Chief Financial Officer', 'Interim Financial Officer', 'Co-Chief Financial Officer', 'Deputy Chief Financial Officer', 'Group Chief Financial Officer', 'Future Chief Financial Officer', 'Financial Officer', 'Finance Officer', 'Acfo']"
      ],
      "metadata": {
        "id": "zvgOeBMGhLpU"
      }
    },
    {
      "cell_type": "code",
      "source": [
        "fuzzy_checker(\"Chief Executive Officer\", CEO_formatting_1['position'], 1000)"
      ],
      "metadata": {
        "id": "ApAMFGiaPHk2"
      },
      "execution_count": null,
      "outputs": []
    },
    {
      "cell_type": "code",
      "source": [
        "CEO_formatting_2 = CEO_formatting_1.loc[(CEO_formatting_1['position'] != 'Acting Chief Executive Officer')\n",
        "& (CEO_formatting_1['position'] != 'Interim Chief Executive Officer')\n",
        "& (CEO_formatting_1['position'] != 'Co-Chief Executive Officer')\n",
        "& (CEO_formatting_1['position'] != 'Executive Officer')\n",
        "& (CEO_formatting_1['position'] != 'Coceo')]"
      ],
      "metadata": {
        "id": "h3_QBgqWUgJA"
      },
      "execution_count": null,
      "outputs": []
    },
    {
      "cell_type": "markdown",
      "source": [
        "CEO_subs = ['Acting Chief Executive Officer', 'Interim Chief Executive Officer', 'Co-Chief Executive Officer', 'Executive Officer', 'Coceo']"
      ],
      "metadata": {
        "id": "IiODixDWgs6e"
      }
    },
    {
      "cell_type": "code",
      "source": [
        "fuzzy_checker(\"Cfo Of\", CFO_formatting_2['position'], 200)"
      ],
      "metadata": {
        "id": "UkLBEajecqPP",
        "colab": {
          "base_uri": "https://localhost:8080/"
        },
        "outputId": "d716c928-4f55-4b4e-f314-0095c486f5b9"
      },
      "execution_count": null,
      "outputs": [
        {
          "output_type": "stream",
          "name": "stdout",
          "text": [
            "['Cfo', ' Cfo', ' Vp-Fin', ' Sr VP And Cfo Of Fpl', 'Cfo Of The Eastern Group', 'Senior Vp And Cfo Of Kraft Foods', 'Cfo Of Starz Encore', 'Evp Staff Operations & Cfo Of Tds Telecom', 'Evp Finance & Cfo Of US Cellular', \"Cfo Of Verizon'S Domestic Telecommunications\", 'Cfo Of Amdocs Management Limited & Svp', 'Cfo Of Idt Entertainment', 'Chairman', ' Cfo Of Idt Telecom', 'Cfo Of Umpqua Bank California', 'Cfo Of Cingular Wireless', ' Vp', ' Svp Cfo Of Aic', 'President And Cfo Of Conferenceplus', 'Cfo Of Kanawha', 'Cfo Of Wynn Las Vegas', 'Evp And Cfo Of Edison Mission Energy Group', 'Cfo Of Hartford Life', ' Vp And Cfo Of Frontline Ltd', 'Cfo Of Fidelity National Title', 'Svp And Cfo Of Sce', 'Cfo Of Fidelity National Title Group', 'Cfo Of Life And Annuity', 'Cfo Of Telecom', 'Cfo Of Entertainment', 'Cfo Of Cigna Healthcare', 'Cfo Of Harley-Davidson Financial Services', 'Vp', ' Cfo Of Life And Retirement', 'Svp', ' Cfo Of Sce', 'Pfo', ' Pao', ' Cfo Of Activision Publishing Inc', 'Cfo Of Qvc', 'Cfo Of Eastern Group', 'Cfo Of Central Group', 'Evp And Cfo Of Consol Energy And Cnx Gas', 'Cfo Of Retail', 'Cao And Cfo Of The Americas', 'Cfo Of Miller Coors', 'Cfo Of Frontline Management As', 'Evp And Cfo Of Eagle Bancorp', ' Inc', ' And Eaglebank', 'Coo And Cfo Of Activision Blizzard', 'Svp Strategic Planning', ' Cfo Of Nsal', '', 'Cfo Of Wynn Macau', 'Svp And Cfo Of Southern California Edison', 'Cfo Of Ford Motor Credit', 'Cfo Officer & Vp', ' Finance & Administration', 'Cfo Of Communications Group', 'Coo & Cfo Of Activision Blizzard', 'Cfo Of Gm North America', 'Evp & Cfo Of Eagle Bancorp', ' Inc And Eaglebank', 'Vp And Cfo Of North America Retail', ' Cfo Of The New York Times Media Group', 'Cfo Of Peruvian Operations And Ir', 'Cfo Of Grupo Mexico', 'Cfo Of Peruvian Operations', ' Ir', 'Cfo Of Citycenter', ' Cfo Of North American Retail', ' Cfo Of Aegion', 'Evp', ' Cfo Of The Company And Bank', 'Cfo Of Amerigas', 'Cfo Of North America Retail', 'Cfo Of Activision Blizzard', 'Svp & Cfo Of Hawaiian Electric Company', 'Vp And Cfo Of Oge', ' President', ' Og&E', 'Svp & Cfo Of Heco', 'Cfo Of Changyou', ' President And Cfo', 'Evp & Cfo Of Optum', 'Cfo Of North American Commercial Finance', 'Svp And Cfo Of Wynn Resorts (Macau)', ' SA', 'Svp Of Finance & Cfo Of Idt Telecom', 'Evp & Cfo Of President Group Operations', 'Cfo Of Ryam', 'Evp & Cfo Of It And Alldata', 'Cfo Of Apex & President Of Lab Support', 'Cfo Of Asi', 'Cfo Of Molson Coors & Interim Ceo Of Millercoors', 'Evp & Cfo Of Us Cellular', 'Cfo Of Unitedhealthcare', 'Cfo Of It And Alldata', 'Svp Of Finance And Cfo Of Idt Telecom']\n"
          ]
        }
      ]
    },
    {
      "cell_type": "code",
      "source": [
        "CFO_formatting_3 = CFO_formatting_2.loc[(CFO_formatting_2['position'].str.contains('Chief Financial Officer') == False)\n",
        "& (CEO_formatting_2['position'].str.contains('Chief Finance') == False)\n",
        "& (CEO_formatting_2['position'].str.contains('Cfo') == False)\n",
        "& (CEO_formatting_2['position'].str.contains('CFO') == False)]\n",
        "CEO_formatting_3 = CEO_formatting_2.loc[(CEO_formatting_2['position'].str.contains('Chief Executive Officer') == False)\n",
        "& (CEO_formatting_2['position'].str.contains('Chief Executive') == False)\n",
        "& (CEO_formatting_2['position'].str.contains('Ceo') == False)]"
      ],
      "metadata": {
        "id": "SzoVEWbarH6j"
      },
      "execution_count": null,
      "outputs": []
    },
    {
      "cell_type": "code",
      "source": [
        "print(CEO_formatting_3['position'])\n",
        "print(CFO_formatting_3['position'])"
      ],
      "metadata": {
        "id": "WkzRh39Ar7o_"
      },
      "execution_count": null,
      "outputs": []
    },
    {
      "cell_type": "code",
      "source": [
        "fuzzy_checker(\"Ceo Of\", CEO_formatting_2['position'], 500)"
      ],
      "metadata": {
        "id": "jJI-R0QqsJS5",
        "colab": {
          "base_uri": "https://localhost:8080/"
        },
        "outputId": "91be20eb-85f4-4c8e-93ec-97a10942a0a7"
      },
      "execution_count": null,
      "outputs": [
        {
          "output_type": "stream",
          "name": "stdout",
          "text": [
            "['Ceo Of Uk European Business', 'Ceo Of Idt Media', 'Ceo Of Winstar', 'President And Ceo Of Fedex Express', 'President And Ceo Of Fedex Ground', 'President And Ceo Of Fred Ex-Freight', 'Ceo Of Express', 'President And Ceo Of Coors Brewing Company', 'President And Ceo Of Liggett Vector Brands', 'Ceo Of Aim Division', 'Ceo Of Lending Tree', 'Ceo Of Hsn', 'Ceo Of Lendingtree', 'Ceo Of Expedia', 'President And Ceo Of Pacific Gas & Electric', \"President & Ceo Of Victoria'S Secret Stores\", 'President & Ceo Of Express', 'Ceo Of Liberty National And United Investors', 'President And Ceo Of Hill-Rom', 'President And Ceo Of Otx', 'Ceo Of Coors Brewers Limited', 'Evp Aes And Ceo Of Eletropaulo', 'President And Ceo Of Nuei', 'President And Ceo Of Travelocity', 'President And Ceo Of Strategic Energy', 'Ceo Of Coors Brewers Ltd', 'Cfo And Evp', ' President And Ceo Of Matson', 'Evp And Cfo', ' Ceo Of Sequent Energy Management', 'Ceo Of Idt Solutions', 'President', ' Ceo Of Activision Publishing', ' Inc', 'President And Ceo Of Rainbow Media', 'Svp', ' President And Ceo Of Pacific Gas & Electric', 'Ceo Of Horizon Air', 'Ceo Of Alaska Airlines', ' Ceo Of Express', 'President And Ceo Of Health Plans Division', 'President & Ceo Of Rainbow Media', 'Ceo Of Lumera', 'President And Ceo Of Liggett', 'President And Ceo Of Elder-Beerman Stores', 'CEO Of New York Times Digital', ' Coo', ' & Ceo Of Glencoe Group', 'Ceo Of Idt Telecom', 'President And Ceo Of Lfd', ' Chairman & Ceo Of Oil & Gas', 'President And Ceo Of Rainbow Media Holdings', ' Ceo Of Ugc', 'Ceo Of Retalix Usa', 'President & Ceo Of Thomson Legal & Regulatory', 'Ceo Of Thomson Financial', 'President & Ceo Of Thomson Learning', 'President & Ceo Of Hill-Rom', 'Fsg', ' President And Ceo Of Aerospace Holdings', 'Cfo', ' President & Ceo Of Matson Navigation Co', 'Ceo Of New York Times Digital', 'President & Ceo Of Mgm Grand Resorts', ' Ceo Of Amerigas Propane', 'Ceo Of Kbr', 'President & Ceo Of Amdocs Management Limited', ' Ceo Of Ges Exposition Services', ' Ceo Of Option One Mortgage Corp', 'Ceo Of Idt Entertainment', 'Pres', ' Director', ' Pres & Ceo Of Aps', 'President & Ceo Of Activision Publishing', 'Svp Of Bmhc', ' Ceo Of Bmc Construction', ' Ceo Of Exhibitgroup/Giltspur Division', 'Chairman', ' Ceo Of Pepsico Beverages And Foods', ' NA', 'Ceo Of Tsys', 'President And Ceo Of North America', 'Evp', ' Ceo Of Raytheon Aircraft Company', 'Ceo Of Willis North America Trading Activity', 'President And Ceo Of Kinro', 'President And Ceo Of Ges', ' Ceo & Ceo Of Gibralter New York', 'President & Ceo Of Rainbow Media Holdings', ' Llc', 'Ceo Of Bmc Construction', 'President And Ceo Of We Generation', 'Director And President & Ceo Of Kinro', 'President & Ceo Of Cyvera Corporation', 'Pres & Pres', ' Ceo Of Glencoe Grp Hldngs', ' Ceo Of Amerigas', 'Ceo Of Willis North America', 'Ceo Of International Operation', 'Co-Coo And Ceo Of Global Businesses', 'Chairman And Ceo Of Willis Re', \"President & Ceo Of Kinko'S\", 'President & Ceo Of Liggett', 'President And Ceo Of Lippert Components Inc', 'Ceo Of Edison Mission Energy Group', 'Ceo Of Southern California Edison', 'President & Ceo Of Amerigas Propane', 'Ceo Of Fidelity National Title', 'President And Ceo Of 454 Life Sciences', 'Vice Chairman And Ceo Of Business Enterprises', 'Ceo Of Local Telecommunications Division', 'Ceo Of Fnt', 'Ceo Of Lorillard', 'President And Ceo Of Activision Publishing', 'President And Ceo Of Mgm Grand Resorts', 'President And Ceo Of Mirage Resorts', 'President And Ceo Of Vector Group', ' Ceo Of Logility', 'President And Ceo Of Amerigas', 'President And Ceo Of Sedgwick Cms', 'President And Ceo Of Certegy', 'Chairman & Ceo Of Company And Bank', ' Ceo Of Heritage Bank', 'Ceo Of Sylvan Online', 'President And Ceo Of Kbr', ' Ceo Of Western Asset Management', 'Ceo Of Entertainment', 'Chairman And Ceo Of Marsh Inc', 'Ceo Of Travelocity', 'Evp And Ceo Of Strategic Energy', 'Ceo Of Qvc', 'Ceo Of Pepsico North America', 'Ceo Of Pepsico International', ' Ceo Of Kbr', ' President And Ceo Of We Generation', 'Vice Chair', ' Ceo Of Pepsico International', ' Ceo Of Selectbuild', 'Ceo Of Healthcare Supply Chain Services', ' And Ceo Of Strategic Energy', 'President And Coo', ' President And Ceo Of Kcp&L', 'Evp & Director', ' Ceo Of Up Offshore', ' Ceo Of Assurant Solutions', 'Ceo Of Edison Mission Group', ' Ceo Of Horizon Air', 'Ceo Of International', ' Cio', ' Ceo Of Agf', 'Ceo Of Tiger Direct', ' Ceo Of Marsh', 'President & Ceo Of Qvc', 'President & Ceo Of Starz Entertainment Group Llc', ' Ceo Of Kaneb Services Llc Corporation', 'President & Ceo Of Assurant Solutions', 'President & Ceo Of Assurant Specialty Properties', 'President & Ceo Of Assurant Health', 'Ceo Of Ovations', ' Ceo Of Vitas', 'President And Ceo Of Invesco Powershares', ' President', ' Ceo Of We Power', 'Ceo Of Molson Canada', 'Chairman And Ceo Of Marsh', 'Chairman And Ceo Of Mercer', 'President And Ceo Of Guy Carpenter', 'President And Ceo Of Oliver Wyman Group', ' Ceo', ' Ceo Of Ges', ' President & Ceo Of Aimco Capital', 'Ceo Of Crown Macau', 'Ceo Of Pacific Gas & Electric Company', ' Ceo Of Rainbow Media Holdings', 'Ceo Of Starz Entertaiment', 'President & Ceo Of Aig', ' Japan', 'Ceo Of Amerigas', 'Ceo Of Ace Overseas Gen', 'President And Ceo Of Kinro And Director Of Drew', 'Ceo Of The Tommy Bahama Group', 'Ceo Of Logilility', 'Dir', ' Ceo Of Lippert Components', ' President And Ceo Of Kinro', 'President And Ceo Of Conectiv Energy', 'Ceo Of Blizzard Entertainment', 'Ceo Of City Of Dreams', ' Ceo Of Arizona', ' Ceo Of California Bank', 'President & Ceo Of Ges Exposition Services', 'Ceo Of Exhibitgroup/Giltspur', 'President & Ceo Of Starz', ' And Ceo Of Raymond James Bank', ' Secretary', ' Ceo Of Na Operations', 'Evp & Ceo Of Logility', 'Co-Ceo And Ceo Of Mobile Devices', 'President And Ceo Of Assurant Solutions', 'President  & Ceo Of Consumer Business Unit', 'President & Ceo Of Commercial Business Unit', ' Ceo Of Americhoice']\n"
          ]
        }
      ]
    },
    {
      "cell_type": "code",
      "source": [
        "fuzzy_checker(\"Financial Officer\", CFO_formatting_3['position'], 200)"
      ],
      "metadata": {
        "id": "9DcN3o40sqGB"
      },
      "execution_count": null,
      "outputs": []
    },
    {
      "cell_type": "markdown",
      "source": [
        "Chairman And Chief Excutive Officer\n",
        "\n",
        "Executive Vice President And Chief Financil Officer\n",
        "\n",
        "Chief Financial &, Chief Strategy & Financial\n",
        "\n",
        " President, Chief Exeucutive Officer\n",
        "\n",
        "  President, Chief Executive Office\n",
        "\n",
        " Chairman And Chief Excutive Officer\n",
        "\n",
        " President And Chief Executive Office\n",
        "\n",
        "ERRORS FOUND"
      ],
      "metadata": {
        "id": "0TKibLsYuKs0"
      }
    },
    {
      "cell_type": "code",
      "source": [
        "CFO_formatting_4 = CFO_formatting_3.loc[(CFO_formatting_3['position'].str.contains('Financial Officer') == False)\n",
        "& (CFO_formatting_3['position'].str.contains('Finance Officer') == False)\n",
        "& (CFO_formatting_3['position'].str.contains('Financial Office') == False)\n",
        "& (CFO_formatting_3['position'].str.contains('Chief Finance') == False)]\n",
        "CEO_formatting_4 = CEO_formatting_3.loc[(CEO_formatting_3['position'].str.contains('Executive Officer') == False)\n",
        "& (CEO_formatting_3['position'].str.contains('Executive Office') == False)]"
      ],
      "metadata": {
        "id": "LR8tVwmc_2gC"
      },
      "execution_count": null,
      "outputs": []
    },
    {
      "cell_type": "markdown",
      "source": [
        "Chief Eexecutive Officer\n",
        "\n",
        "Chairman And Chief Eexcutive Officer\n",
        "\n",
        "Chairmanceo\n",
        "\n",
        "Coceo\n",
        "\n",
        "President Andceo\n",
        "\n",
        "President And Cceo\n",
        "\n",
        "Chief Exeucutive Officer"
      ],
      "metadata": {
        "id": "AeXdkmiLBkKw"
      }
    },
    {
      "cell_type": "code",
      "source": [
        "fuzzy_checker(\"Chief Financial And\", CFO_formatting_4['position'], 500)"
      ],
      "metadata": {
        "id": "CtuDThJUAPVo"
      },
      "execution_count": null,
      "outputs": []
    },
    {
      "cell_type": "code",
      "source": [
        "new_list = fuzzy_checker(\"Executive Officer\", CEO_formatting_4['position'], 500)\n",
        "print(new_list)"
      ],
      "metadata": {
        "id": "Rh4lC-Rjv5IU"
      },
      "execution_count": null,
      "outputs": []
    },
    {
      "cell_type": "code",
      "source": [
        "CFO_formatting_5 = CFO_formatting_4.loc[(CFO_formatting_4['position'].str.contains('Chief Financial And') == False)]"
      ],
      "metadata": {
        "id": "0GuTBUsIX5cd"
      },
      "execution_count": null,
      "outputs": []
    },
    {
      "cell_type": "markdown",
      "source": [
        "Senior Vice President & Chief Financial Offier\n",
        "\n",
        "Chief Financial Offiicer & Chief Corporate Officer\n",
        "\n",
        "Chief Financial * Officer And Senior Vice President\n",
        "\n",
        "Evp & Chief Financial & Planning Officer\n",
        "\n",
        "CFO\n",
        "\n",
        "Acfo\n",
        "\n",
        "Evp Finance Andcfo\n",
        "\n",
        "Md & Interimcfo\n",
        "\n",
        "Cfao"
      ],
      "metadata": {
        "id": "0k6QbZ1FCfXT"
      }
    },
    {
      "cell_type": "code",
      "source": [
        "fuzzy_checker(\"& Financial\", CFO_formatting_5['position'], 500)"
      ],
      "metadata": {
        "colab": {
          "base_uri": "https://localhost:8080/"
        },
        "id": "m3SjtcicYGFp",
        "outputId": "08c5ca62-4274-4e13-90c7-853e74009121"
      },
      "execution_count": null,
      "outputs": [
        {
          "output_type": "stream",
          "name": "stdout",
          "text": [
            "['Financial Vp', 'Vp', ' Financial', 'M/I Financial', 'Tfs Financial', 'Executive Vice President', ' Financial Management', 'Director Of Financial Operations', 'Director Of Corporate Financial Planning And Investor Relations', 'Financial Relations', 'Vice President Of Financial Planning And Investor Relations', 'Vice President', ' Investor Relations And Financial Communications', 'Vice President Investor Relations And Financial Communications', 'President Of Us Insurance And Financial Services Division', 'Vice President/Manager Of Financial Planning And Analysis', 'Chief Financial Offiicer & Chief Corporate Officer', 'Head Of Retail & Middle Market Financial Services', 'Senior Vice President Financial Planning And Investor Relations', 'Svp Of Corporate Financial Operations', 'Director Of Financial Planning', 'Boston Private Financial Holdings', 'Director Of Financial Communications', 'Synovus Financial Corp', 'Chief Financial  Officer And Senior Vice President', 'Evp Consumer Financial Svs Group', 'President Enhance Financial Services Group', 'Director Of Financial Reporting', 'Cincinnati Financial Corporation', 'Svp Financial Policy', 'Chairman & Ceo:Lincoln Financial Group', 'Evp', 'Service & Technology Operations And Financial Services', 'President', ' Us Insurance And Financial Services', 'Financial Reporting Manager', 'Vp Of Financial Relations', 'Financial Planning & Analysis', 'Financial Dynamics', 'Vice President Of Financial Services', 'Chief Financial Actuary For Life And Annuity', 'President Insurance And Financial Services Division', 'Senior Financial Analyst', 'Cheif Financial Operator', ' Sr Vice President', ' Treasurer', ' Financial Reporting', 'Vp Financial Planning And Analysis', ' Credit & Financial Products', ' Financial Planning & Investor Relations', 'Chase Financial Services Head', 'Vice President Financial Investor Relations', 'Senior Vp Of Financial Planning And Investor Relations', 'Senior Vp Financial Planning', 'Chairman And Chief Financial Executive Officer', 'Executive Vice President And Chief Financial Planning Officer', 'Svp', ' Ir', ' Financial Planning', ' Analysis', 'Corporate Vice President Investor Relations & Financial Planning', 'Vp Of Ir And Financial Communications', 'President Enhance Financial Services Group Inc', 'Executive Vp Of Consumer Financial Services', 'President-Financial Services Group', ' Financial Policy', ' Corporate Financial Operations', ' Large Financial Division', ' US Insurance And Financial Services Operations', 'Corporate Vp', ' Investor Relations And Financial Planning', 'Vp Of Financial Planning & Analysis', 'Manager', ' Investor And Financial Releases', 'Vice Chairman Of Financial Management', 'Financial Relations Board', 'Financial Relations Director', 'Vp Of Financial Planning And Analysis', 'Vp Financial Services', 'Evp And Chief Financial Planning Officer', ' Financial Services', 'Chief Financial Accountant', 'Chase Financial Services', ' Ir And Financial Communications', 'Novastar Financial Inc', 'Vice Pres', 'Chase Financial Service', ' Treasury & Securities Services', ' Financial Services Group', ' Director Of Financial Reporting', ' Corporate Communications And Financial Planning', ' Integrated Financial Solutions Division', 'Evp Of Ir', ' Financial Planning And Analysis', ' Insurance And Financial Services', 'Sr Vice President Public Relations And Financial Communications', 'Evp Of Investor Relations And Financial Planning And Analysis', 'Senior Manager Of Investor And Financial Relations', 'Vp Financial Planning & Analysis', 'Financial Vice President', 'Chief Financial Actuary', 'President Of US Insurance And Financial Services', 'Vice Chairman Financial Management', 'Ceo Of Thomson Financial', 'Director Of Financial And Investor Relations', 'Financial Director', 'Investor And Financial Media Contact', ' Technology', 'Financial Reporting And Enterprise Risk Management', 'Investor And Financial Media Relations', 'Director Financial Planning And Analysis', 'Director Of Financial Relations', 'Senior Vice President & Chief Financial Offier', 'Vp Financial Planning & Treasurer', 'Analyst Inquiries Of Financial Relations Board', ' Corp Comm & Financial Planning', 'Chief Financial Administrative Officer', 'Vp Of Financial Operations & Cao', 'Vp And President', ' Ceo Of Lennar Financial Services', 'President Of US Insurance And Financial Services Business', 'President Of Insurance And Financial Services', 'Vice Chairman For Financial Management', 'Financial Analysis', 'Financial Relations Board-Ir', 'Vp & Director', 'Vice President Of Investor Relations & Financial Communication', 'Financial Services Group', 'Senior Vp Investor Relations & Financial Communications', 'Vp-Corporate Communications & Financial Planning', 'Investor Relations: Financial Dynamics', 'Senior Vp', ' Life & Annuity Financial', 'Group Financial Director', 'Evp & Chief Financial & Planning Officer', 'Vice Chairman Financial Svs', 'Vp Of Investor Relations And Financial Communications', ' Chief Financial & Administrative Officer', 'Vp-Corporate Communications And Financial Planning', 'Director', ' Ir & Financial Communications', 'Consulting Financial Expert', ' Financial Communications', 'President Insurance & Financial Services']\n"
          ]
        }
      ]
    },
    {
      "cell_type": "code",
      "source": [
        ""
      ],
      "metadata": {
        "id": "YWrlS8K1ZTc7"
      },
      "execution_count": null,
      "outputs": []
    }
  ]
}