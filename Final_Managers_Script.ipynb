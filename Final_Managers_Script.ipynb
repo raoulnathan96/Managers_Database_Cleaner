{
  "nbformat": 4,
  "nbformat_minor": 0,
  "metadata": {
    "colab": {
      "name": "Final_Managers_Script.ipynb",
      "provenance": [],
      "collapsed_sections": []
    },
    "kernelspec": {
      "name": "python3",
      "display_name": "Python 3"
    },
    "language_info": {
      "name": "python"
    }
  },
  "cells": [
    {
      "cell_type": "code",
      "execution_count": null,
      "metadata": {
        "id": "R70JTxGGcbTw",
        "colab": {
          "base_uri": "https://localhost:8080/"
        },
        "outputId": "7bd94551-7d9c-4714-ba58-aac7f9d19683"
      },
      "outputs": [
        {
          "output_type": "stream",
          "name": "stdout",
          "text": [
            "Collecting fuzzywuzzy\n",
            "  Downloading fuzzywuzzy-0.18.0-py2.py3-none-any.whl (18 kB)\n",
            "Installing collected packages: fuzzywuzzy\n",
            "Successfully installed fuzzywuzzy-0.18.0\n",
            "Collecting python-Levenshtein\n",
            "  Downloading python-Levenshtein-0.12.2.tar.gz (50 kB)\n",
            "\u001b[K     |████████████████████████████████| 50 kB 2.8 MB/s \n",
            "\u001b[?25hRequirement already satisfied: setuptools in /usr/local/lib/python3.7/dist-packages (from python-Levenshtein) (57.4.0)\n",
            "Building wheels for collected packages: python-Levenshtein\n",
            "  Building wheel for python-Levenshtein (setup.py) ... \u001b[?25l\u001b[?25hdone\n",
            "  Created wheel for python-Levenshtein: filename=python_Levenshtein-0.12.2-cp37-cp37m-linux_x86_64.whl size=149861 sha256=3d4a218f0502147d5c3c8903ff4d7209a109a30852969277396527424a13ad4e\n",
            "  Stored in directory: /root/.cache/pip/wheels/05/5f/ca/7c4367734892581bb5ff896f15027a932c551080b2abd3e00d\n",
            "Successfully built python-Levenshtein\n",
            "Installing collected packages: python-Levenshtein\n",
            "Successfully installed python-Levenshtein-0.12.2\n"
          ]
        }
      ],
      "source": [
        "import numpy as np\n",
        "import pandas as pd\n",
        "pd.set_option('display.max_rows', 500)\n",
        "\n",
        "!pip install fuzzywuzzy\n",
        "!pip install python-Levenshtein\n",
        "\n",
        "from fuzzywuzzy import fuzz\n",
        "from fuzzywuzzy import process"
      ]
    },
    {
      "cell_type": "code",
      "source": [
        "df = pd.read_csv(\"Total_Managers_pos.csv\")\n",
        "print(df)"
      ],
      "metadata": {
        "id": "ydrqv0vEcjsr",
        "colab": {
          "base_uri": "https://localhost:8080/"
        },
        "outputId": "c096985a-586d-4183-aced-03a264571e40"
      },
      "execution_count": null,
      "outputs": [
        {
          "output_type": "stream",
          "name": "stdout",
          "text": [
            "                                                filename  \\\n",
            "0       2005-Jan-27-SHLDQ.PK-137041167100-Transcript.txt   \n",
            "1       2005-Jan-27-SHLDQ.PK-137041167100-Transcript.txt   \n",
            "2       2005-Jan-27-SHLDQ.PK-137041167100-Transcript.txt   \n",
            "3       2005-Jan-27-SHLDQ.PK-137041167100-Transcript.txt   \n",
            "4       2005-Jan-27-SHLDQ.PK-137041167100-Transcript.txt   \n",
            "...                                                  ...   \n",
            "709610  2017-Aug-24-SHLDQ.PK-139913387379-Transcript.txt   \n",
            "709611  2017-Aug-24-SHLDQ.PK-139913387379-Transcript.txt   \n",
            "709612  2017-Aug-24-SHLDQ.PK-139913387379-Transcript.txt   \n",
            "709613  2017-Aug-24-SHLDQ.PK-139913387379-Transcript.txt   \n",
            "709614     2017-Aug-24-SIG.N-137535371251-transcript.txt   \n",
            "\n",
            "                                         filename_manager            manager  \\\n",
            "0       2005-Jan-27-SHLDQ.PK-137041167100-Transcript-G...      Glenn Richter   \n",
            "1       2005-Jan-27-SHLDQ.PK-137041167100-Transcript-G...      Glenn Richter   \n",
            "2       2005-Jan-27-SHLDQ.PK-137041167100-Transcript-S...      Scott Bohaboy   \n",
            "3       2005-Jan-27-SHLDQ.PK-137041167100-Transcript-S...      Scott Bohaboy   \n",
            "4       2005-Jan-27-SHLDQ.PK-137041167100-Transcript-A...          Alan Lacy   \n",
            "...                                                   ...                ...   \n",
            "709610  2017-Aug-24-SHLDQ.PK-139913387379-Transcript-C...   Chris Brathwaite   \n",
            "709611  2017-Aug-24-SHLDQ.PK-139913387379-Transcript-C...   Chris Brathwaite   \n",
            "709612  2017-Aug-24-SHLDQ.PK-139913387379-Transcript-R...  Robert A. Riecker   \n",
            "709613  2017-Aug-24-SHLDQ.PK-139913387379-Transcript-R...  Robert A. Riecker   \n",
            "709614                      2017-Aug-24-SIG.N-13753537125                NaN   \n",
            "\n",
            "                                                 position gender  \\\n",
            "0       Executive Vice President and Chief Financial O...   male   \n",
            "1       Executive Vice President and Chief Financial O...   male   \n",
            "2                            Director, Investor Relations   male   \n",
            "3                            Director, Investor Relations   male   \n",
            "4                    Chairman and Chief Executive Officer   male   \n",
            "...                                                   ...    ...   \n",
            "709610                     VP of Corporate Communications   male   \n",
            "709611                     VP of Corporate Communications   male   \n",
            "709612                                                CFO   male   \n",
            "709613                                                CFO   male   \n",
            "709614                                                NaN    NaN   \n",
            "\n",
            "                  call_part         date       ric    YEAR  \n",
            "0              Presentation  2005-Jan-26         A  2005.0  \n",
            "1       Question and Answer  2005-Jan-27         A  2005.0  \n",
            "2              Presentation  2005-Jan-27  SHLDQ.PK  2005.0  \n",
            "3       Question and Answer  2005-Jan-27  SHLDQ.PK  2005.0  \n",
            "4              Presentation  2005-Jan-27  SHLDQ.PK  2005.0  \n",
            "...                     ...          ...       ...     ...  \n",
            "709610         Presentation  2017-Aug-24  SHLDQ.PK  2017.0  \n",
            "709611  Question and Answer  2017-Aug-24  SHLDQ.PK  2017.0  \n",
            "709612         Presentation  2017-Aug-24  SHLDQ.PK  2017.0  \n",
            "709613  Question and Answer  2017-Aug-24  SHLDQ.PK  2017.0  \n",
            "709614                  NaN          NaN       NaN     NaN  \n",
            "\n",
            "[709615 rows x 9 columns]\n"
          ]
        }
      ]
    },
    {
      "cell_type": "code",
      "source": [
        "df['position'] = df['position'].map(lambda position: str(position))\n",
        "df['position'] = df['position'].map(lambda position: position.strip().title().replace('.',''))"
      ],
      "metadata": {
        "id": "6wQt3u61crQF"
      },
      "execution_count": null,
      "outputs": []
    },
    {
      "cell_type": "code",
      "source": [
        "CFO_pure = ['Chief Financial Officer', 'Cfo', 'Chief Financial Officer,', 'Chief Finacial Officer', 'Chief Financia Officer', 'Chief Fiancial Officer', 'Chief Fianncial Officer', 'Cheif Financial Officer', 'Chief Finanical Officer', 'Chief Financial Office', 'Chief Financial', 'Chief Finance Officer', 'Cheif Financial Officer', 'Chief Executive Financial Officer', 'CFO', 'Andcfo', 'Interimcfo']\n",
        "CFO_subs = ['Acting Chief Financial Officer', 'Interim Chief Financial Officer', 'Interim Financial Officer', 'Co-Chief Financial Officer', 'Deputy Chief Financial Officer', 'Group Chief Financial Officer', 'Future Chief Financial Officer', 'Financial Officer', 'Finance Officer', 'Acfo']\n",
        "CFO_overlap = ['Chief Financial Officer', 'Chief Financial Officer,', 'Cheif Financial Officer', 'Chief Finance Officer', 'Chief Executive Financial Officer']\n",
        "CFO_combo_spell = ['Senior Vice President & Chief Financial Offier', 'Chief Financial Offiicer & Chief Corporate Officer', 'Chief Financial  Officer And Senior Vice President']"
      ],
      "metadata": {
        "id": "UQ1ELTpeLKw2"
      },
      "execution_count": null,
      "outputs": []
    },
    {
      "cell_type": "code",
      "source": [
        "def CFO_subs_indexing(positions):\n",
        "  if positions['position'] == 'Acting Chief Financial Officer' or positions['position'] == 'Interim Chief Financial Officer' or positions['position'] == 'Interim Financial Officer' or positions['position'] == 'Co-Chief Financial Officer' or positions['position'] == 'Deputy Chief Financial Officer' or positions['position'] == 'Group Chief Financial Officer' or positions['position'] == 'Future Chief Financial Officer' or positions['position'] == 'Financial Officer' or positions['position'] == 'Finance Officer':\n",
        "    return 1\n",
        "  elif 'Acting Chief Financial Officer' in positions['position'] or 'Interim Chief Financial Officer' in positions['position'] or 'Interim Financial Officer' in positions['position'] or 'Co-Chief Financial Officer' in positions['position'] or 'Deputy Chief Financial Officer' in positions['position'] or 'Group Chief Financial Officer' in positions['position'] or 'Future Chief Financial Officer' in positions['position'] or 'Interimcfo' in positions['position'] or 'Acfo' in positions['position'] or 'Cfo-Elect' in positions['position'] or 'Co-Cfo' in positions['position']:\n",
        "    return 1\n",
        "  elif 'Cfo of' in positions['position']:\n",
        "    return 0\n",
        "  else:\n",
        "    return 0"
      ],
      "metadata": {
        "id": "Cfg_nijtkVCp"
      },
      "execution_count": null,
      "outputs": []
    },
    {
      "cell_type": "code",
      "source": [
        "df['CFO_alt_index'] = df.apply(lambda positions: CFO_subs_indexing(positions), axis = 1)"
      ],
      "metadata": {
        "id": "kghFSCMMwwyo"
      },
      "execution_count": null,
      "outputs": []
    },
    {
      "cell_type": "code",
      "source": [
        "def CFO_indexing(positions):\n",
        "  if positions['position'] == 'Chief Financial Officer' or positions['position'] == 'Cfo' or positions['position'] == 'Chief Financial Officer,' or positions['position'] == 'Chief Finacial Officer' or positions['position'] == 'Chief Financia Officer' or positions['position'] == 'Chief Fiancial Officer' or positions['position'] == 'Chief Fianncial Officer' or positions['position'] == 'Cheif Financial Officer' or positions['position'] == 'Chief Finanical Officer' or positions['position'] == 'Chief Financial Office' or positions['position'] == 'Chief Financial' or positions['position'] == 'Chief Finance Officer' or positions['position'] == 'Chief Executive Financial Officer':\n",
        "    return 1\n",
        "  elif ('Cfo Of' in positions['position']) and ('Cfo And' not in positions['position']) and ('Cfo,' not in positions['position']) and ('Cfo &' not in positions['position']):\n",
        "    return 0\n",
        "  elif (positions['CFO_alt_index'] == 0) and ('Chief Financial Officer' in positions['position'] or 'Chief Financil Officer' in positions['position'] or \"Cfo\" in positions['position'] or 'Chief Financial Officer,' in positions['position'] or 'Chief Finacial Officer' in positions['position'] or 'Chief Financia Officer' in positions['position'] or 'Chief Fiancial Officer' in positions['position'] or 'Chief Fianncial Officer' in positions['position'] or 'Cheif Financial Officer' in positions['position'] or 'Chief Finanical Officer' in positions['position'] or 'Chief Financial Office' in positions['position'] or 'Chief Financial' in positions['position'] or 'Chief Finance' in positions['position'] or 'Chief Finance Officer' in positions['position'] or 'Chief Executive Financial Officer' in positions['position'] or 'CFO' in positions['position'] or 'Andcfo' in positions['position'] or 'Chief Strategy & Financial' in positions['position']): #and ('Cfo Of' not in positions['position']):\n",
        "    return 1\n",
        "  else:\n",
        "    return 0"
      ],
      "metadata": {
        "id": "BtJdKXiDUJeE"
      },
      "execution_count": null,
      "outputs": []
    },
    {
      "cell_type": "code",
      "source": [
        "df['CFO_index'] = df.apply(lambda positions: CFO_indexing(positions), axis = 1)"
      ],
      "metadata": {
        "id": "Dfteb-cThGFp"
      },
      "execution_count": null,
      "outputs": []
    },
    {
      "cell_type": "markdown",
      "source": [
        "TRIAL CODE"
      ],
      "metadata": {
        "id": "cx83Qx27U9pa"
      }
    },
    {
      "cell_type": "code",
      "source": [
        "def CFO_indexing(positions):\n",
        "  if positions['position'] == [pure_word for pure_word in CFO_pure]:\n",
        "    return 1\n",
        "  elif [pure_word in positions['position'] for pure_word in CFO_pure] and positions['CFO_alt_index'] == 0:\n",
        "    return 1\n",
        "  elif [combo_word in positions['position'] for combo_word in CFO_combo_spell]:\n",
        "    return 1\n",
        "  else:\n",
        "    return 0"
      ],
      "metadata": {
        "id": "mDLFXweQct9P"
      },
      "execution_count": null,
      "outputs": []
    },
    {
      "cell_type": "code",
      "source": [
        "def CFO_subs_indexing(positions):\n",
        "  for sub_word in CFO_subs:\n",
        "    if positions['position'] == sub_word:\n",
        "      return 1\n",
        "    elif positions['position'] == [pure_word for pure_word in CFO_pure]:\n",
        "      return 0\n",
        "  #elif [sub_word in positions['position'] for sub_word in CFO_subs] == True and [overlap_word not in positions['position'] for overlap_word in CFO_overlap] == True:\n",
        "    #return 1\n",
        "  else:\n",
        "    return 0"
      ],
      "metadata": {
        "id": "OOEWZk0PMN5D"
      },
      "execution_count": null,
      "outputs": []
    },
    {
      "cell_type": "markdown",
      "source": [
        "CEO INDEXING"
      ],
      "metadata": {
        "id": "7N-UzL67VB49"
      }
    },
    {
      "cell_type": "code",
      "source": [
        "CEO_pure = ['Chief Executive Officer', 'Ceo', 'Chief Executive Officer,', 'Cheif Executive Officer', 'Chief Executive Offcier', 'Chief Executive', 'Chief Executive Office', 'Chief Executive Financial Officer', 'Chief Eexecutive Officer', 'Chairmanceo', 'Andceo', 'Cceo', 'Chief Exeucutive Officer']\n",
        "CEO_subs = ['Acting Chief Executive Officer', 'Interim Chief Executive Officer', 'Co-Chief Executive Officer', 'Executive Officer', 'Coceo']\n",
        "CEO_overlap = ['Chairman And Chief Excutive Officer', 'President, Chief Exeucutive Officer', 'Chairman And Chief Excutive Officer', 'Chairman And Chief Eexcutive Officer']"
      ],
      "metadata": {
        "id": "9kQZpYmdVDzR"
      },
      "execution_count": null,
      "outputs": []
    },
    {
      "cell_type": "code",
      "source": [
        "def CEO_subs_indexing(positions):\n",
        "  if positions['position'] == 'Acting Chief Executive Officer' or positions['position'] == 'Interim Chief Executive Officer' or positions['position'] == 'Co-Chief Executive Officer' or positions['position'] == 'Executive Officer' or positions['position'] == 'Coceo':\n",
        "    return 1\n",
        "  elif 'Acting Chief Executive Officer' in positions['position'] or 'Interim Chief Executive Officer' in positions['position'] or 'Co-Chief Executive Officer' in positions['position'] or 'Coceo' in positions['position'] or 'Co-Ceo' in positions['position'] or 'Aceo' in positions['position'] or 'Ceo-Elect' in positions['position']:\n",
        "    return 1\n",
        "  elif 'Ceo of' in positions['position'] or 'Chief Executive Officer of' in positions['position']:\n",
        "    return 0\n",
        "  else:\n",
        "    return 0"
      ],
      "metadata": {
        "id": "IQPniB8rbiEj"
      },
      "execution_count": null,
      "outputs": []
    },
    {
      "cell_type": "code",
      "source": [
        "df['CEO_alt_index'] = df.apply(lambda positions: CEO_subs_indexing(positions), axis = 1)"
      ],
      "metadata": {
        "id": "hxhs0DyecfPx"
      },
      "execution_count": null,
      "outputs": []
    },
    {
      "cell_type": "code",
      "source": [
        "def CEO_indexing(positions):\n",
        "  if (positions['position'] == 'Chief Executive Officer' or positions['position'] == 'Ceo' or positions['position'] == 'Chief Executive Officer' or positions['position'] == 'Cheif Executive Officer' or positions['position'] == 'Chief Executive Offcier' or positions['position'] == 'Chief Executive' or positions['position'] == 'Chief Executive Office' or positions['position'] == 'Chief Executive Financial Officer' or positions['position'] == 'Chief Eexecutive Officer' or positions['position'] == 'Chairmanceo' or positions['position'] == 'Cceo' or positions['position'] == 'Chief Exeucutive Officer') and ('Ceo of' not in positions['position'] or 'Chief Executive Officer of' not in positions['position']):\n",
        "    return 1\n",
        "  elif ('Ceo Of' in positions['position'] or 'Chief Executive Officer Of' in positions['position']) and ('Ceo Director' not in positions['position']) and ('Ceo And' not in positions['position']) and ('Ceo,' not in positions['position']) and ('Ceo &' not in positions['position']):\n",
        "    return 0\n",
        "  elif (positions['CEO_alt_index'] == 0) and ('Chief Executive Officer' in positions['position'] or 'Ceo' in positions['position'] or 'Chief Executive Officer,' in positions['position'] or 'Cheif Executive Officer' in positions['position'] or 'Chief Executive Offcier' in positions['position'] or 'Chief Executive' in positions['position'] or 'Chief Executive Office' in positions['position'] or 'Chief Executive Financial Officer' in positions['position'] or 'Chief Eexecutive Officer' in positions['position'] or 'Chairmanceo' in positions['position'] or 'Andceo' in positions['position'] or 'Cceo' in positions['position']  or 'Chief Exeucutive Officer' in positions['position'] or 'Chief Excutive Officer' in positions['position'] or 'Chief Eexcutive Officer' in positions['position']): #and ('Ceo Of' not in positions['position'] and 'Chief Executive Officer Of' not in positions['position']):\n",
        "    return 1\n",
        "  else:\n",
        "    return 0"
      ],
      "metadata": {
        "id": "zaibX42aZWcX"
      },
      "execution_count": null,
      "outputs": []
    },
    {
      "cell_type": "code",
      "source": [
        "df['CEO_index'] = df.apply(lambda positions: CEO_indexing(positions), axis = 1)"
      ],
      "metadata": {
        "id": "2c3gNhKNdYXq"
      },
      "execution_count": null,
      "outputs": []
    },
    {
      "cell_type": "code",
      "source": [
        "df.to_csv('Total_Managers_pos_Indexed_R1.csv')"
      ],
      "metadata": {
        "id": "271K6kHso8xk"
      },
      "execution_count": null,
      "outputs": []
    }
  ]
}